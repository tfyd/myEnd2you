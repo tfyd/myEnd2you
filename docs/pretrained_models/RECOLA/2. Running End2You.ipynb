{
 "cells": [
  {
   "cell_type": "markdown",
   "metadata": {},
   "source": [
    "## 1. Generate hdf5 files "
   ]
  },
  {
   "cell_type": "code",
   "execution_count": null,
   "metadata": {},
   "outputs": [],
   "source": [
    "from end2you.data_generator import FileReader, AudioGenerator, VisualGenerator\n",
    "from pathlib import Path"
   ]
  },
  {
   "cell_type": "code",
   "execution_count": null,
   "metadata": {},
   "outputs": [],
   "source": [
    "path_to_save_hdf5 = Path('/path/to/save/hdf5/files')\n",
    "input_file_path = Path('/path/to/input_file.csv')"
   ]
  },
  {
   "cell_type": "code",
   "execution_count": null,
   "metadata": {},
   "outputs": [],
   "source": [
    "filereader = FileReader(',')\n",
    "labelfile_reader = FileReader(delimiter=',')\n",
    "audio_generator = VisualGenerator(save_data_folder=str(path_to_save_hdf5), \n",
    "                                 input_file=str(input_file_path),\n",
    "                                 reader=filereader,\n",
    "                                 labelfile_reader=labelfile_reader)\n",
    "audio_generator.write_data_files()"
   ]
  },
  {
   "cell_type": "markdown",
   "metadata": {},
   "source": [
    "## 2. Start Training"
   ]
  },
  {
   "cell_type": "code",
   "execution_count": null,
   "metadata": {},
   "outputs": [],
   "source": [
    "import numpy as np\n",
    "\n",
    "from pathlib import Path\n",
    "from end2you.training_process import TrainingProcess\n",
    "from end2you.utils import Params"
   ]
  },
  {
   "cell_type": "code",
   "execution_count": null,
   "metadata": {},
   "outputs": [],
   "source": [
    "train_path = Path('/path/to/train/data')\n",
    "valid_path = Path('/path/to/valid/data')\n",
    "end2you_path = Path('/path/to/save/output/end2you')\n",
    "\n",
    "cuda = True\n",
    "modality = 'visual'\n",
    "params = Params(dict_params={\n",
    "    'train':Params(dict_params={'loss':'ccc',\n",
    "                                'dataset_path': str(train_path),\n",
    "                                'optimizer':'adamw',\n",
    "                                'learning_rate':0.00008,\n",
    "                                '_file':'train_sw',\n",
    "                                'num_epochs':30,\n",
    "                                'num_workers':0,\n",
    "                                'cuda':cuda, \n",
    "                                'modality':modality,\n",
    "                                'batch_size':3,\n",
    "                                'is_training':True,\n",
    "                                'save_summary_steps':3,\n",
    "                                'seq_length': 150,\n",
    "                                'augment': True\n",
    "                               }),\n",
    "    'valid':Params(dict_params={'_file':'eval_sw',\n",
    "                                'metric':'ccc',\n",
    "                                'dataset_path': str(valid_path),\n",
    "                                'num_workers':0,\n",
    "                                'cuda': cuda, \n",
    "                                'modality':modality,\n",
    "                                'batch_size':3,\n",
    "                                'save_summary_steps':1,\n",
    "                                'is_training':False, #### should be ALWAYS false\n",
    "                                'seq_length': 150,\n",
    "                                'augment': False\n",
    "                              }),\n",
    "    'model': Params(dict_params={'model_name':'resnet18', 'pretrained':True, 'num_outs':2}),\n",
    "    'root_dir': str(end2you_path),\n",
    "    'log_file': 'recola_log.log',\n",
    "    'ckpt_path': None,\n",
    "    'num_gpus':1\n",
    "})"
   ]
  },
  {
   "cell_type": "code",
   "execution_count": null,
   "metadata": {},
   "outputs": [],
   "source": [
    "training = TrainingProcess(params)\n",
    "training.start()"
   ]
  },
  {
   "cell_type": "code",
   "execution_count": null,
   "metadata": {},
   "outputs": [],
   "source": []
  }
 ],
 "metadata": {
  "kernelspec": {
   "display_name": "Python 3",
   "language": "python",
   "name": "python3"
  },
  "language_info": {
   "codemirror_mode": {
    "name": "ipython",
    "version": 3
   },
   "file_extension": ".py",
   "mimetype": "text/x-python",
   "name": "python",
   "nbconvert_exporter": "python",
   "pygments_lexer": "ipython3",
   "version": "3.8.3"
  }
 },
 "nbformat": 4,
 "nbformat_minor": 4
}
